{
 "cells": [
  {
   "cell_type": "code",
   "execution_count": 1,
   "id": "96b62871",
   "metadata": {},
   "outputs": [],
   "source": [
    "import numpy as np\n",
    "import pandas as pd\n",
    "from pathlib import Path\n",
    "from collections import Counter\n",
    "import warnings\n",
    "warnings.filterwarnings('ignore')\n",
    "from sklearn.metrics import balanced_accuracy_score\n",
    "from sklearn.metrics import confusion_matrix\n",
    "from imblearn.metrics import classification_report_imbalanced\n",
    "from sklearn.model_selection import train_test_split\n",
    "from sklearn.ensemble import RandomForestClassifier\n",
    "from sklearn.metrics import accuracy_score\n",
    "from sklearn.preprocessing import StandardScaler,OneHotEncoder\n",
    "import pandas as pd\n",
    "import tensorflow as tf\n",
    "import hvplot.pandas\n",
    "import plotly.express as px\n",
    "%matplotlib inline"
   ]
  },
  {
   "cell_type": "markdown",
   "id": "7414f006",
   "metadata": {},
   "source": [
    "## Read the CSV and Data Preprocessing"
   ]
  },
  {
   "cell_type": "code",
   "execution_count": 2,
   "id": "fcfa93bd",
   "metadata": {},
   "outputs": [],
   "source": [
    "# Load the Data\n",
    "# file_df = pd.read_csv(“……..csv\")\n",
    "# file_df.head()"
   ]
  },
  {
   "cell_type": "code",
   "execution_count": 3,
   "id": "76a2f6bf",
   "metadata": {},
   "outputs": [],
   "source": [
    "# Drop columns not required"
   ]
  },
  {
   "cell_type": "code",
   "execution_count": null,
   "id": "386ab934",
   "metadata": {},
   "outputs": [],
   "source": [
    "# identify unique values in each column (if relevant to data)"
   ]
  },
  {
   "cell_type": "code",
   "execution_count": null,
   "id": "531ad156",
   "metadata": {},
   "outputs": [],
   "source": [
    "# Drop null values"
   ]
  },
  {
   "cell_type": "code",
   "execution_count": 4,
   "id": "3a40e81a",
   "metadata": {},
   "outputs": [],
   "source": [
    "# Value counts for binning"
   ]
  },
  {
   "cell_type": "code",
   "execution_count": 6,
   "id": "b749ca4e",
   "metadata": {},
   "outputs": [],
   "source": [
    "# Determine if any values require replacing"
   ]
  },
  {
   "cell_type": "code",
   "execution_count": null,
   "id": "8c053769",
   "metadata": {},
   "outputs": [],
   "source": [
    "# Look at CLASSIFICATION value counts for binning"
   ]
  },
  {
   "cell_type": "code",
   "execution_count": null,
   "id": "68c15820",
   "metadata": {},
   "outputs": [],
   "source": [
    "# Use visualizations for value counts "
   ]
  },
  {
   "cell_type": "code",
   "execution_count": null,
   "id": "a1ec2030",
   "metadata": {},
   "outputs": [],
   "source": [
    "# Generate categorical variable lists"
   ]
  },
  {
   "cell_type": "code",
   "execution_count": null,
   "id": "59f5c505",
   "metadata": {},
   "outputs": [],
   "source": [
    "# Any need for resampling and checking using oversampling /undersampling / SMOTE?"
   ]
  },
  {
   "cell_type": "code",
   "execution_count": null,
   "id": "e36ecb54",
   "metadata": {},
   "outputs": [],
   "source": [
    "# Create OneHotEncoder instance"
   ]
  },
  {
   "cell_type": "code",
   "execution_count": null,
   "id": "703c0b3a",
   "metadata": {},
   "outputs": [],
   "source": [
    "# Fit & Transform OnHotEncoder"
   ]
  },
  {
   "cell_type": "code",
   "execution_count": null,
   "id": "50df74a0",
   "metadata": {},
   "outputs": [],
   "source": [
    "# Add encoded variable names to the DF"
   ]
  },
  {
   "cell_type": "code",
   "execution_count": null,
   "id": "c3e87027",
   "metadata": {},
   "outputs": [],
   "source": [
    "# Merge one-hot encoded features and drop originals"
   ]
  },
  {
   "cell_type": "code",
   "execution_count": null,
   "id": "e0282340",
   "metadata": {},
   "outputs": [],
   "source": [
    "# Split our preprocessed data into our features and target arrays"
   ]
  },
  {
   "cell_type": "code",
   "execution_count": null,
   "id": "423ae626",
   "metadata": {},
   "outputs": [],
   "source": [
    "# Split the preprocessed data into a training and testing dataset"
   ]
  },
  {
   "cell_type": "code",
   "execution_count": null,
   "id": "80f76f5e",
   "metadata": {},
   "outputs": [],
   "source": [
    "# Create StandardScaler instances"
   ]
  },
  {
   "cell_type": "code",
   "execution_count": null,
   "id": "3cd43504",
   "metadata": {},
   "outputs": [],
   "source": [
    "# Fit the StandardScaler"
   ]
  },
  {
   "cell_type": "code",
   "execution_count": null,
   "id": "3ea1be6f",
   "metadata": {},
   "outputs": [],
   "source": [
    "# Scale the Data"
   ]
  },
  {
   "cell_type": "code",
   "execution_count": 7,
   "id": "0140adc2",
   "metadata": {},
   "outputs": [],
   "source": [
    "# Create Random Forest Classifier, Fit the Model and Evaluate the Model"
   ]
  },
  {
   "cell_type": "code",
   "execution_count": null,
   "id": "5e270aaf",
   "metadata": {},
   "outputs": [],
   "source": [
    "# Define the model - deep neural net, i.e., the number of input features and hidden nodes for each layer.\n",
    "# Add layers (input, hidden, output)\n",
    "# Check model structure\n"
   ]
  },
  {
   "cell_type": "code",
   "execution_count": null,
   "id": "ff6927e8",
   "metadata": {},
   "outputs": [],
   "source": [
    "# Compile (add checkpoints, create callback to save weights)\n"
   ]
  },
  {
   "cell_type": "code",
   "execution_count": null,
   "id": "ea4558e9",
   "metadata": {},
   "outputs": [],
   "source": [
    "# Train the model\n"
   ]
  },
  {
   "cell_type": "code",
   "execution_count": null,
   "id": "ef77df98",
   "metadata": {},
   "outputs": [],
   "source": [
    "# Evaluate the model \n"
   ]
  },
  {
   "cell_type": "code",
   "execution_count": null,
   "id": "947b6aa8",
   "metadata": {},
   "outputs": [],
   "source": [
    "# Optimize the model – drop noisy variables, change layer, neurons, epochs\n"
   ]
  },
  {
   "cell_type": "code",
   "execution_count": null,
   "id": "840ba0e5",
   "metadata": {},
   "outputs": [],
   "source": [
    "# Export to HDF5"
   ]
  }
 ],
 "metadata": {
  "kernelspec": {
   "display_name": "mlenv",
   "language": "python",
   "name": "mlenv"
  },
  "language_info": {
   "codemirror_mode": {
    "name": "ipython",
    "version": 3
   },
   "file_extension": ".py",
   "mimetype": "text/x-python",
   "name": "python",
   "nbconvert_exporter": "python",
   "pygments_lexer": "ipython3",
   "version": "3.7.11"
  }
 },
 "nbformat": 4,
 "nbformat_minor": 5
}
