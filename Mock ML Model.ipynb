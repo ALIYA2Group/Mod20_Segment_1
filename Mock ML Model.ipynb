{
 "cells": [
  {
   "cell_type": "code",
   "execution_count": 1,
   "id": "ea8a39a4",
   "metadata": {},
   "outputs": [],
   "source": [
    "import numpy as np\n",
    "import pandas as pd\n",
    "from pathlib import Path\n",
    "from collections import Counter\n",
    "import warnings\n",
    "warnings.filterwarnings('ignore')\n",
    "from sklearn.metrics import balanced_accuracy_score\n",
    "from sklearn.metrics import confusion_matrix\n",
    "from imblearn.metrics import classification_report_imbalanced\n",
    "from sklearn.model_selection import train_test_split\n",
    "from sklearn.preprocessing import StandardScaler,OneHotEncoder\n",
    "import pandas as pd\n",
    "import tensorflow as tf\n",
    "import hvplot.pandas\n",
    "import plotly.express as px\n",
    "%matplotlib inline"
   ]
  },
  {
   "cell_type": "markdown",
   "id": "1384478b",
   "metadata": {},
   "source": [
    "## Read the CSV and Data Preprocessing"
   ]
  },
  {
   "cell_type": "code",
   "execution_count": 2,
   "id": "a0858717",
   "metadata": {},
   "outputs": [],
   "source": [
    "# Load the Data\n",
    "# file_df = pd.read_csv(“……..csv\")\n",
    "# file_df.head()"
   ]
  },
  {
   "cell_type": "code",
   "execution_count": 3,
   "id": "7afed51b",
   "metadata": {},
   "outputs": [],
   "source": [
    "# Drop columns not required"
   ]
  },
  {
   "cell_type": "code",
   "execution_count": null,
   "id": "49c25b4c",
   "metadata": {},
   "outputs": [],
   "source": [
    "# identify unique values in each column (if relevant to data)"
   ]
  },
  {
   "cell_type": "code",
   "execution_count": null,
   "id": "65d6d36f",
   "metadata": {},
   "outputs": [],
   "source": [
    "# Drop null values"
   ]
  },
  {
   "cell_type": "code",
   "execution_count": 4,
   "id": "e62a415d",
   "metadata": {},
   "outputs": [],
   "source": [
    "# Value counts for binning"
   ]
  },
  {
   "cell_type": "code",
   "execution_count": 6,
   "id": "4555f489",
   "metadata": {},
   "outputs": [],
   "source": [
    "# Determine if any values require replacing"
   ]
  },
  {
   "cell_type": "code",
   "execution_count": null,
   "id": "d322f0fa",
   "metadata": {},
   "outputs": [],
   "source": [
    "# Look at CLASSIFICATION value counts for binning"
   ]
  },
  {
   "cell_type": "code",
   "execution_count": null,
   "id": "de7ddbbc",
   "metadata": {},
   "outputs": [],
   "source": [
    "# Use visualizations for value counts "
   ]
  },
  {
   "cell_type": "code",
   "execution_count": null,
   "id": "f8d93196",
   "metadata": {},
   "outputs": [],
   "source": [
    "# Generate categorical variable lists"
   ]
  },
  {
   "cell_type": "code",
   "execution_count": null,
   "id": "924511c9",
   "metadata": {},
   "outputs": [],
   "source": [
    "# Any need for resampling and checking using oversampling /undersampling / SMOTE?"
   ]
  },
  {
   "cell_type": "code",
   "execution_count": null,
   "id": "76a6484b",
   "metadata": {},
   "outputs": [],
   "source": [
    "# Create OneHotEncoder instance\n",
    "\n",
    "\n"
   ]
  },
  {
   "cell_type": "code",
   "execution_count": null,
   "id": "011e00f8",
   "metadata": {},
   "outputs": [],
   "source": [
    "# Fit & Transform OnHotEncoder"
   ]
  },
  {
   "cell_type": "code",
   "execution_count": null,
   "id": "6f5527ce",
   "metadata": {},
   "outputs": [],
   "source": [
    "# Add encoded variable names to the DF"
   ]
  },
  {
   "cell_type": "code",
   "execution_count": null,
   "id": "980476f9",
   "metadata": {},
   "outputs": [],
   "source": [
    "# Merge one-hot encoded features and drop originals"
   ]
  },
  {
   "cell_type": "code",
   "execution_count": null,
   "id": "632b28af",
   "metadata": {},
   "outputs": [],
   "source": [
    "# Split our preprocessed data into our features and target arrays"
   ]
  },
  {
   "cell_type": "code",
   "execution_count": null,
   "id": "1eacd07c",
   "metadata": {},
   "outputs": [],
   "source": [
    "# Split the preprocessed data into a training and testing dataset"
   ]
  },
  {
   "cell_type": "code",
   "execution_count": null,
   "id": "4454f243",
   "metadata": {},
   "outputs": [],
   "source": [
    "# Create StandardScaler instances"
   ]
  },
  {
   "cell_type": "code",
   "execution_count": null,
   "id": "cf92f767",
   "metadata": {},
   "outputs": [],
   "source": [
    "# Fit the StandardScaler"
   ]
  },
  {
   "cell_type": "code",
   "execution_count": null,
   "id": "44b8e022",
   "metadata": {},
   "outputs": [],
   "source": [
    "# Scale the Data"
   ]
  },
  {
   "cell_type": "code",
   "execution_count": null,
   "id": "edbf1ffd",
   "metadata": {},
   "outputs": [],
   "source": [
    "# Test Using Ensemble"
   ]
  }
 ],
 "metadata": {
  "kernelspec": {
   "display_name": "mlenv",
   "language": "python",
   "name": "mlenv"
  },
  "language_info": {
   "codemirror_mode": {
    "name": "ipython",
    "version": 3
   },
   "file_extension": ".py",
   "mimetype": "text/x-python",
   "name": "python",
   "nbconvert_exporter": "python",
   "pygments_lexer": "ipython3",
   "version": "3.7.11"
  }
 },
 "nbformat": 4,
 "nbformat_minor": 5
}
