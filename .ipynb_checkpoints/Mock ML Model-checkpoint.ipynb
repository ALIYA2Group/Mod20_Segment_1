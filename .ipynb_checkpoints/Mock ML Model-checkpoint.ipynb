{
 "cells": [
  {
   "cell_type": "code",
   "execution_count": 3,
   "id": "e8c59552",
   "metadata": {},
   "outputs": [],
   "source": [
    "import numpy as np\n",
    "import pandas as pd\n",
    "from pathlib import Path\n",
    "from collections import Counter\n",
    "import warnings\n",
    "warnings.filterwarnings('ignore')\n",
    "from sklearn.metrics import balanced_accuracy_score\n",
    "from sklearn.metrics import confusion_matrix\n",
    "from imblearn.metrics import classification_report_imbalanced\n",
    "from sklearn.model_selection import train_test_split\n",
    "from sklearn.ensemble import RandomForestClassifier\n",
    "from sklearn.metrics import accuracy_score\n",
    "from sklearn.preprocessing import StandardScaler,OneHotEncoder\n",
    "import pandas as pd\n",
    "import tensorflow as tf\n",
    "import hvplot.pandas\n",
    "%matplotlib inline"
   ]
  },
  {
   "cell_type": "markdown",
   "id": "f67ebcaa",
   "metadata": {},
   "source": [
    "## STEP 1: Read the CSV and Data Preprocessing"
   ]
  },
  {
   "cell_type": "code",
   "execution_count": 6,
   "id": "358a502d",
   "metadata": {},
   "outputs": [
    {
     "data": {
      "text/html": [
       "<div>\n",
       "<style scoped>\n",
       "    .dataframe tbody tr th:only-of-type {\n",
       "        vertical-align: middle;\n",
       "    }\n",
       "\n",
       "    .dataframe tbody tr th {\n",
       "        vertical-align: top;\n",
       "    }\n",
       "\n",
       "    .dataframe thead th {\n",
       "        text-align: right;\n",
       "    }\n",
       "</style>\n",
       "<table border=\"1\" class=\"dataframe\">\n",
       "  <thead>\n",
       "    <tr style=\"text-align: right;\">\n",
       "      <th></th>\n",
       "      <th>Year</th>\n",
       "      <th>Month</th>\n",
       "      <th>Day</th>\n",
       "      <th>Extent</th>\n",
       "      <th>Missing</th>\n",
       "      <th>Source Data</th>\n",
       "    </tr>\n",
       "  </thead>\n",
       "  <tbody>\n",
       "    <tr>\n",
       "      <th>0</th>\n",
       "      <td>YYYY</td>\n",
       "      <td>MM</td>\n",
       "      <td>DD</td>\n",
       "      <td>10^6 sq km</td>\n",
       "      <td>10^6 sq km</td>\n",
       "      <td>Source data product web sites: http://nsidc.o...</td>\n",
       "    </tr>\n",
       "    <tr>\n",
       "      <th>1</th>\n",
       "      <td>1978</td>\n",
       "      <td>10</td>\n",
       "      <td>26</td>\n",
       "      <td>10.231</td>\n",
       "      <td>0.000</td>\n",
       "      <td>['/ecs/DP1/PM/NSIDC-0051.001/1978.10.26/nt_19...</td>\n",
       "    </tr>\n",
       "    <tr>\n",
       "      <th>2</th>\n",
       "      <td>1978</td>\n",
       "      <td>10</td>\n",
       "      <td>28</td>\n",
       "      <td>10.420</td>\n",
       "      <td>0.000</td>\n",
       "      <td>['/ecs/DP1/PM/NSIDC-0051.001/1978.10.28/nt_19...</td>\n",
       "    </tr>\n",
       "    <tr>\n",
       "      <th>3</th>\n",
       "      <td>1978</td>\n",
       "      <td>10</td>\n",
       "      <td>30</td>\n",
       "      <td>10.557</td>\n",
       "      <td>0.000</td>\n",
       "      <td>['/ecs/DP1/PM/NSIDC-0051.001/1978.10.30/nt_19...</td>\n",
       "    </tr>\n",
       "    <tr>\n",
       "      <th>4</th>\n",
       "      <td>1978</td>\n",
       "      <td>11</td>\n",
       "      <td>01</td>\n",
       "      <td>10.670</td>\n",
       "      <td>0.000</td>\n",
       "      <td>['/ecs/DP1/PM/NSIDC-0051.001/1978.11.01/nt_19...</td>\n",
       "    </tr>\n",
       "  </tbody>\n",
       "</table>\n",
       "</div>"
      ],
      "text/plain": [
       "   Year   Month   Day       Extent      Missing  \\\n",
       "0  YYYY      MM    DD   10^6 sq km   10^6 sq km   \n",
       "1  1978      10    26       10.231        0.000   \n",
       "2  1978      10    28       10.420        0.000   \n",
       "3  1978      10    30       10.557        0.000   \n",
       "4  1978      11    01       10.670        0.000   \n",
       "\n",
       "                                         Source Data  \n",
       "0   Source data product web sites: http://nsidc.o...  \n",
       "1   ['/ecs/DP1/PM/NSIDC-0051.001/1978.10.26/nt_19...  \n",
       "2   ['/ecs/DP1/PM/NSIDC-0051.001/1978.10.28/nt_19...  \n",
       "3   ['/ecs/DP1/PM/NSIDC-0051.001/1978.10.30/nt_19...  \n",
       "4   ['/ecs/DP1/PM/NSIDC-0051.001/1978.11.01/nt_19...  "
      ]
     },
     "execution_count": 6,
     "metadata": {},
     "output_type": "execute_result"
    }
   ],
   "source": [
    "# Load the Data\n",
    "file_df = pd.read_csv('N_seaice_extent_daily_v3.0.csv')\n",
    "file_df.head()"
   ]
  },
  {
   "cell_type": "code",
   "execution_count": 11,
   "id": "bcb0fd3e",
   "metadata": {},
   "outputs": [
    {
     "data": {
      "text/html": [
       "<div>\n",
       "<style scoped>\n",
       "    .dataframe tbody tr th:only-of-type {\n",
       "        vertical-align: middle;\n",
       "    }\n",
       "\n",
       "    .dataframe tbody tr th {\n",
       "        vertical-align: top;\n",
       "    }\n",
       "\n",
       "    .dataframe thead th {\n",
       "        text-align: right;\n",
       "    }\n",
       "</style>\n",
       "<table border=\"1\" class=\"dataframe\">\n",
       "  <thead>\n",
       "    <tr style=\"text-align: right;\">\n",
       "      <th></th>\n",
       "      <th>Year</th>\n",
       "      <th>Month</th>\n",
       "      <th>Day</th>\n",
       "      <th>Extent</th>\n",
       "      <th>Missing</th>\n",
       "    </tr>\n",
       "  </thead>\n",
       "  <tbody>\n",
       "    <tr>\n",
       "      <th>0</th>\n",
       "      <td>YYYY</td>\n",
       "      <td>MM</td>\n",
       "      <td>DD</td>\n",
       "      <td>10^6 sq km</td>\n",
       "      <td>10^6 sq km</td>\n",
       "    </tr>\n",
       "    <tr>\n",
       "      <th>1</th>\n",
       "      <td>1978</td>\n",
       "      <td>10</td>\n",
       "      <td>26</td>\n",
       "      <td>10.231</td>\n",
       "      <td>0.000</td>\n",
       "    </tr>\n",
       "    <tr>\n",
       "      <th>2</th>\n",
       "      <td>1978</td>\n",
       "      <td>10</td>\n",
       "      <td>28</td>\n",
       "      <td>10.420</td>\n",
       "      <td>0.000</td>\n",
       "    </tr>\n",
       "    <tr>\n",
       "      <th>3</th>\n",
       "      <td>1978</td>\n",
       "      <td>10</td>\n",
       "      <td>30</td>\n",
       "      <td>10.557</td>\n",
       "      <td>0.000</td>\n",
       "    </tr>\n",
       "    <tr>\n",
       "      <th>4</th>\n",
       "      <td>1978</td>\n",
       "      <td>11</td>\n",
       "      <td>01</td>\n",
       "      <td>10.670</td>\n",
       "      <td>0.000</td>\n",
       "    </tr>\n",
       "    <tr>\n",
       "      <th>...</th>\n",
       "      <td>...</td>\n",
       "      <td>...</td>\n",
       "      <td>...</td>\n",
       "      <td>...</td>\n",
       "      <td>...</td>\n",
       "    </tr>\n",
       "    <tr>\n",
       "      <th>14123</th>\n",
       "      <td>2022</td>\n",
       "      <td>01</td>\n",
       "      <td>04</td>\n",
       "      <td>13.436</td>\n",
       "      <td>0.000</td>\n",
       "    </tr>\n",
       "    <tr>\n",
       "      <th>14124</th>\n",
       "      <td>2022</td>\n",
       "      <td>01</td>\n",
       "      <td>05</td>\n",
       "      <td>13.477</td>\n",
       "      <td>0.000</td>\n",
       "    </tr>\n",
       "    <tr>\n",
       "      <th>14125</th>\n",
       "      <td>2022</td>\n",
       "      <td>01</td>\n",
       "      <td>06</td>\n",
       "      <td>13.537</td>\n",
       "      <td>0.000</td>\n",
       "    </tr>\n",
       "    <tr>\n",
       "      <th>14126</th>\n",
       "      <td>2022</td>\n",
       "      <td>01</td>\n",
       "      <td>07</td>\n",
       "      <td>13.520</td>\n",
       "      <td>0.000</td>\n",
       "    </tr>\n",
       "    <tr>\n",
       "      <th>14127</th>\n",
       "      <td>2022</td>\n",
       "      <td>01</td>\n",
       "      <td>08</td>\n",
       "      <td>13.690</td>\n",
       "      <td>0.000</td>\n",
       "    </tr>\n",
       "  </tbody>\n",
       "</table>\n",
       "<p>14128 rows × 5 columns</p>\n",
       "</div>"
      ],
      "text/plain": [
       "       Year   Month   Day       Extent      Missing\n",
       "0      YYYY      MM    DD   10^6 sq km   10^6 sq km\n",
       "1      1978      10    26       10.231        0.000\n",
       "2      1978      10    28       10.420        0.000\n",
       "3      1978      10    30       10.557        0.000\n",
       "4      1978      11    01       10.670        0.000\n",
       "...     ...     ...   ...          ...          ...\n",
       "14123  2022      01    04       13.436        0.000\n",
       "14124  2022      01    05       13.477        0.000\n",
       "14125  2022      01    06       13.537        0.000\n",
       "14126  2022      01    07       13.520        0.000\n",
       "14127  2022      01    08       13.690        0.000\n",
       "\n",
       "[14128 rows x 5 columns]"
      ]
     },
     "execution_count": 11,
     "metadata": {},
     "output_type": "execute_result"
    }
   ],
   "source": [
    "# Drop columns not required\n",
    "file_df.drop([' Source Data'], axis=1, inplace=True)\n",
    "file_df\n",
    "             "
   ]
  },
  {
   "cell_type": "code",
   "execution_count": null,
   "id": "1ebcb007",
   "metadata": {},
   "outputs": [],
   "source": [
    "# identify unique values in each column (if relevant to data)\n"
   ]
  },
  {
   "cell_type": "code",
   "execution_count": null,
   "id": "a04dbcf0",
   "metadata": {},
   "outputs": [],
   "source": [
    "# Drop null values\n"
   ]
  },
  {
   "cell_type": "code",
   "execution_count": 4,
   "id": "ff6ca18a",
   "metadata": {},
   "outputs": [],
   "source": [
    "# Value counts for binning"
   ]
  },
  {
   "cell_type": "code",
   "execution_count": 6,
   "id": "c1d4b003",
   "metadata": {},
   "outputs": [],
   "source": [
    "# Determine if any values require replacing"
   ]
  },
  {
   "cell_type": "code",
   "execution_count": null,
   "id": "e4752ff5",
   "metadata": {},
   "outputs": [],
   "source": [
    "# Look at CLASSIFICATION value counts for binning"
   ]
  },
  {
   "cell_type": "code",
   "execution_count": null,
   "id": "7c523638",
   "metadata": {},
   "outputs": [],
   "source": [
    "# Use visualizations for value counts "
   ]
  },
  {
   "cell_type": "code",
   "execution_count": null,
   "id": "c98abc3a",
   "metadata": {},
   "outputs": [],
   "source": [
    "# Generate categorical variable lists"
   ]
  },
  {
   "cell_type": "code",
   "execution_count": null,
   "id": "da9b001d",
   "metadata": {},
   "outputs": [],
   "source": [
    "# Any need for resampling and checking using oversampling /undersampling / SMOTE?"
   ]
  },
  {
   "cell_type": "code",
   "execution_count": null,
   "id": "3ae16ec0",
   "metadata": {},
   "outputs": [],
   "source": [
    "# Create OneHotEncoder instance"
   ]
  },
  {
   "cell_type": "code",
   "execution_count": null,
   "id": "ed0312f1",
   "metadata": {},
   "outputs": [],
   "source": [
    "# Fit & Transform OnHotEncoder"
   ]
  },
  {
   "cell_type": "code",
   "execution_count": null,
   "id": "e21f86ce",
   "metadata": {},
   "outputs": [],
   "source": [
    "# Add encoded variable names to the DF"
   ]
  },
  {
   "cell_type": "code",
   "execution_count": null,
   "id": "73d54a19",
   "metadata": {},
   "outputs": [],
   "source": [
    "# Merge one-hot encoded features and drop originals"
   ]
  },
  {
   "cell_type": "code",
   "execution_count": null,
   "id": "52519474",
   "metadata": {},
   "outputs": [],
   "source": [
    "# Split our preprocessed data into our features and target arrays"
   ]
  },
  {
   "cell_type": "code",
   "execution_count": null,
   "id": "bb1918fb",
   "metadata": {},
   "outputs": [],
   "source": [
    "# Split the preprocessed data into a training and testing dataset"
   ]
  },
  {
   "cell_type": "code",
   "execution_count": null,
   "id": "c97c9418",
   "metadata": {},
   "outputs": [],
   "source": [
    "# Create StandardScaler instances"
   ]
  },
  {
   "cell_type": "code",
   "execution_count": null,
   "id": "6bd6cac8",
   "metadata": {},
   "outputs": [],
   "source": [
    "# Fit the StandardScaler"
   ]
  },
  {
   "cell_type": "code",
   "execution_count": null,
   "id": "cd8441b6",
   "metadata": {},
   "outputs": [],
   "source": [
    "# Scale the Data"
   ]
  },
  {
   "cell_type": "markdown",
   "id": "365cd748",
   "metadata": {},
   "source": [
    "## STEP 2: Train & Evaluate Using Ensemble Learners"
   ]
  },
  {
   "cell_type": "code",
   "execution_count": 7,
   "id": "9b67198e",
   "metadata": {},
   "outputs": [],
   "source": [
    "# Create Random Forest Classifier, Fit the Model and Evaluate the Model"
   ]
  },
  {
   "cell_type": "markdown",
   "id": "4bbaf677",
   "metadata": {},
   "source": [
    "## STEP 3: Compile, Train & Evaluate the Model (Using Tensor Flow) in Deep Learning"
   ]
  },
  {
   "cell_type": "code",
   "execution_count": null,
   "id": "ce3dc465",
   "metadata": {},
   "outputs": [],
   "source": [
    "# Define the model - deep neural net, i.e., the number of input features and hidden nodes for each layer.\n",
    "# Add layers (input, hidden, output)\n",
    "# Check model structure\n"
   ]
  },
  {
   "cell_type": "code",
   "execution_count": null,
   "id": "01b37bac",
   "metadata": {},
   "outputs": [],
   "source": [
    "# Compile (add checkpoints, create callback to save weights)\n"
   ]
  },
  {
   "cell_type": "code",
   "execution_count": null,
   "id": "1e9d653d",
   "metadata": {},
   "outputs": [],
   "source": [
    "# Train the model\n"
   ]
  },
  {
   "cell_type": "code",
   "execution_count": null,
   "id": "566c4761",
   "metadata": {},
   "outputs": [],
   "source": [
    "# Evaluate the model \n"
   ]
  },
  {
   "cell_type": "code",
   "execution_count": null,
   "id": "1fa4f6c4",
   "metadata": {},
   "outputs": [],
   "source": [
    "# Optimize the model – drop noisy variables, change layer, neurons, epochs\n"
   ]
  },
  {
   "cell_type": "code",
   "execution_count": null,
   "id": "9bd48afa",
   "metadata": {},
   "outputs": [],
   "source": [
    "# Export to HDF5"
   ]
  }
 ],
 "metadata": {
  "kernelspec": {
   "display_name": "mlenv",
   "language": "python",
   "name": "mlenv"
  },
  "language_info": {
   "codemirror_mode": {
    "name": "ipython",
    "version": 3
   },
   "file_extension": ".py",
   "mimetype": "text/x-python",
   "name": "python",
   "nbconvert_exporter": "python",
   "pygments_lexer": "ipython3",
   "version": "3.7.11"
  }
 },
 "nbformat": 4,
 "nbformat_minor": 5
}
